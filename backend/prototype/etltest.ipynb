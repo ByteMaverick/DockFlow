{
 "cells": [
  {
   "cell_type": "code",
   "id": "initial_id",
   "metadata": {
    "collapsed": true,
    "ExecuteTime": {
     "end_time": "2025-08-17T10:00:00.940224Z",
     "start_time": "2025-08-17T09:59:59.953988Z"
    }
   },
   "source": [
    "from backend.dags.main_etl_dag import get_dock_feed,get_dock_feed_static,get_event_metadata_table, get_weather_feed\n",
    "\n",
    "\n",
    "d = get_weather_feed()\n",
    "d.shape"
   ],
   "outputs": [
    {
     "data": {
      "text/plain": [
       "(2, 11)"
      ]
     },
     "execution_count": 7,
     "metadata": {},
     "output_type": "execute_result"
    }
   ],
   "execution_count": 7
  },
  {
   "metadata": {
    "ExecuteTime": {
     "end_time": "2025-08-17T10:00:03.314427Z",
     "start_time": "2025-08-17T10:00:03.308088Z"
    }
   },
   "cell_type": "code",
   "source": "d.head()",
   "id": "983df63d29498897",
   "outputs": [
    {
     "data": {
      "text/plain": [
       "   cloud_pct  temp  feels_like  humidity  min_temp  max_temp  wind_speed  \\\n",
       "0        100    17          17        84        16        18        3.60   \n",
       "1        100    17          17        84        16        18        3.09   \n",
       "\n",
       "   wind_degrees     sunrise      sunset                      collected_at  \n",
       "0            60  1755177803  1755226874  2025-08-14T11:22:16.025000+00:00  \n",
       "1            50  1755177801  1755226871  2025-08-14T11:30:03.894000+00:00  "
      ],
      "text/html": [
       "<div>\n",
       "<style scoped>\n",
       "    .dataframe tbody tr th:only-of-type {\n",
       "        vertical-align: middle;\n",
       "    }\n",
       "\n",
       "    .dataframe tbody tr th {\n",
       "        vertical-align: top;\n",
       "    }\n",
       "\n",
       "    .dataframe thead th {\n",
       "        text-align: right;\n",
       "    }\n",
       "</style>\n",
       "<table border=\"1\" class=\"dataframe\">\n",
       "  <thead>\n",
       "    <tr style=\"text-align: right;\">\n",
       "      <th></th>\n",
       "      <th>cloud_pct</th>\n",
       "      <th>temp</th>\n",
       "      <th>feels_like</th>\n",
       "      <th>humidity</th>\n",
       "      <th>min_temp</th>\n",
       "      <th>max_temp</th>\n",
       "      <th>wind_speed</th>\n",
       "      <th>wind_degrees</th>\n",
       "      <th>sunrise</th>\n",
       "      <th>sunset</th>\n",
       "      <th>collected_at</th>\n",
       "    </tr>\n",
       "  </thead>\n",
       "  <tbody>\n",
       "    <tr>\n",
       "      <th>0</th>\n",
       "      <td>100</td>\n",
       "      <td>17</td>\n",
       "      <td>17</td>\n",
       "      <td>84</td>\n",
       "      <td>16</td>\n",
       "      <td>18</td>\n",
       "      <td>3.60</td>\n",
       "      <td>60</td>\n",
       "      <td>1755177803</td>\n",
       "      <td>1755226874</td>\n",
       "      <td>2025-08-14T11:22:16.025000+00:00</td>\n",
       "    </tr>\n",
       "    <tr>\n",
       "      <th>1</th>\n",
       "      <td>100</td>\n",
       "      <td>17</td>\n",
       "      <td>17</td>\n",
       "      <td>84</td>\n",
       "      <td>16</td>\n",
       "      <td>18</td>\n",
       "      <td>3.09</td>\n",
       "      <td>50</td>\n",
       "      <td>1755177801</td>\n",
       "      <td>1755226871</td>\n",
       "      <td>2025-08-14T11:30:03.894000+00:00</td>\n",
       "    </tr>\n",
       "  </tbody>\n",
       "</table>\n",
       "</div>"
      ]
     },
     "execution_count": 8,
     "metadata": {},
     "output_type": "execute_result"
    }
   ],
   "execution_count": 8
  },
  {
   "metadata": {},
   "cell_type": "code",
   "outputs": [],
   "execution_count": null,
   "source": "",
   "id": "d02bdf5b09127aef"
  }
 ],
 "metadata": {
  "kernelspec": {
   "display_name": "Python 3",
   "language": "python",
   "name": "python3"
  },
  "language_info": {
   "codemirror_mode": {
    "name": "ipython",
    "version": 2
   },
   "file_extension": ".py",
   "mimetype": "text/x-python",
   "name": "python",
   "nbconvert_exporter": "python",
   "pygments_lexer": "ipython2",
   "version": "2.7.6"
  }
 },
 "nbformat": 4,
 "nbformat_minor": 5
}
